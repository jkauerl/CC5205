{
 "cells": [
  {
   "cell_type": "code",
   "execution_count": null,
   "metadata": {
    "id": "kiQ1LwZoAFLc"
   },
   "outputs": [],
   "source": [
    "import pandas as pd\n",
    "\n",
    "PATH = r\"C:\\Users\\kauer\\OneDrive - Universidad de Chile\\U\\7mo Semestre\\CC5205\\\n",
    "proyecto\\US_Accidents_Dec21_updated.csv\"\n",
    "\n",
    "df = pd.read_csv(PATH, memory_map= True)\n",
    "\n",
    "df = df.drop([\"End_Time\", \"Start_Lat\",\"End_Lat\", \"End_Lng\", \"Distance(mi)\", \n",
    "              \"Description\", \"Number\", \"Side\", \"County\", \"Zipcode\", \"Country\",\n",
    "              \"Timezone\", \"Airport_Code\", \"Weather_Timestamp\", \"Wind_Direction\",\n",
    "              \"Amenity\", \"No_Exit\",\"Roundabout\",\"Station\", \"Traffic_Calming\", \n",
    "              \"Turning_Loop\", \"Civil_Twilight\", \"Nautical_Twilight\", \n",
    "              \"Astronomical_Twilight\"], axis=1)\n",
    "\n",
    "df = df.dropna(how=\"any\", axis=0)\n",
    "\n",
    "def mph_to_kmh(mph):\n",
    "    kmh = mph*1.60934\n",
    "    return kmh\n",
    "\n",
    "def ftoc(f):\n",
    "    c = (5/9)*(f-32)\n",
    "    return c\n",
    "\n",
    "def mitokm(mi):\n",
    "    km = mi*1.60934\n",
    "    return km\n",
    "\n",
    "def intopa(inches):\n",
    "    pa = inches*0.32201 \n",
    "    return pa\n",
    "\n",
    "df[\"Temperature(F)\"] = df[\"Temperature(F)\"].apply(ftoc)\n",
    "df[\"Wind_Chill(F)\"] = df[\"Wind_Chill(F)\"].apply(ftoc)\n",
    "df[\"Pressure(in)\"] = df[\"Pressure(in)\"].apply(intopa)\n",
    "df[\"Visibility(mi)\"] = df[\"Visibility(mi)\"].apply(mitokm)\n",
    "df[\"Wind_Speed(mph)\"] = df[\"Wind_Speed(mph)\"].apply(mph_to_kmh)\n",
    "df[\"Precipitation(in)\"] = df[\"Precipitation(in)\"].apply(intopa)\n",
    "\n",
    "df = df.rename(columns={\"Temperature(F)\": \"Temperature(C)\", \"Wind_Chill(F)\" :\n",
    "                        \"Wind_Chill(C)\", \"Pressure(in)\" : \"Pressure(pa)\", \n",
    "                        \"Visibility(mi)\" : \"Visibility(km)\", \"Wind_Speed(mph)\" \n",
    "                        : \"Wind_Speed(kmh)\", \"Precipitation(in)\" : \"Precipitation(pa)\"})\n",
    "\n",
    "df[['date', 'time']] = df['Start_Time'].str.split(' ', expand=True)\n",
    "df[\"date\"]= pd.to_datetime(df[\"date\"])\n",
    "df['year'] = df['date'].dt.year\n",
    "df = df.drop(\"Start_Time\", axis=1)\n",
    "\n",
    "PATH1 = r\"C:\\Users\\kauer\\OneDrive - Universidad de Chile\\U\\7mo Semestre\\CC5205\\\n",
    "proyecto\\datos_limpios.csv\"\n",
    "\n",
    "df.to_csv(PATH1, index=False)\n"
   ]
  }
 ],
 "metadata": {
  "colab": {
   "provenance": []
  },
  "kernelspec": {
   "display_name": "Python 3 (ipykernel)",
   "language": "python",
   "name": "python3"
  },
  "language_info": {
   "codemirror_mode": {
    "name": "ipython",
    "version": 3
   },
   "file_extension": ".py",
   "mimetype": "text/x-python",
   "name": "python",
   "nbconvert_exporter": "python",
   "pygments_lexer": "ipython3",
   "version": "3.10.5"
  }
 },
 "nbformat": 4,
 "nbformat_minor": 1
}
