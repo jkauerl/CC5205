{
 "cells": [
  {
   "cell_type": "code",
   "execution_count": 2,
   "metadata": {
    "id": "hGsM49EFrUq7"
   },
   "outputs": [],
   "source": [
    "import pandas as pd\n",
    "from sklearn.metrics import f1_score, recall_score, precision_score\n",
    "from sklearn.model_selection import train_test_split\n",
    "from sklearn.dummy import DummyClassifier\n",
    "from sklearn.tree import DecisionTreeClassifier\n",
    "from sklearn.naive_bayes import GaussianNB  # naive bayes\n",
    "from sklearn.neighbors import KNeighborsClassifier #kNN\n",
    "import numpy as np\n",
    "from sklearn.tree import export_graphviz\n",
    "import graphviz\n",
    "\n",
    "\n",
    "#Carga de bases de datos.\n",
    "df = pd.read_csv('Datos_finales_arreglados_con_undersampling_int.csv', encoding='utf-8')\n",
    "df2 = pd.read_csv('Datos_finales_arreglados_sin_undersampling_int.csv', encoding='utf-8')\n",
    "\n"
   ]
  },
  {
   "cell_type": "code",
   "execution_count": 3,
   "metadata": {
    "colab": {
     "base_uri": "https://localhost:8080/"
    },
    "id": "8OcLwPw3-e3U",
    "outputId": "487a7860-e376-4558-e7cb-2abeffaf4474"
   },
   "outputs": [
    {
     "name": "stdout",
     "output_type": "stream",
     "text": [
      "(100000, 17)\n",
      "(90000, 17)\n"
     ]
    }
   ],
   "source": [
    "print(df.shape)\n",
    "print(df2.shape)"
   ]
  },
  {
   "cell_type": "code",
   "execution_count": 7,
   "metadata": {
    "colab": {
     "base_uri": "https://localhost:8080/"
    },
    "id": "n430iPXq-b3F",
    "outputId": "9750f4a6-55f9-4051-8019-9e5d3fc4b8a0",
    "scrolled": false
   },
   "outputs": [
    {
     "name": "stdout",
     "output_type": "stream",
     "text": [
      "----------------\n",
      "Resultados para clasificador:  Base Dummy\n",
      "Precision promedio: 0.1042067716407029\n",
      "Recall promedio: 0.5004214232369573\n",
      "F1-score promedio: 0.17249346617171366\n",
      "----------------\n",
      "\n",
      "\n",
      "----------------\n",
      "Resultados para clasificador:  Decision Tree\n",
      "Precision promedio: 0.20958496476115898\n",
      "Recall promedio: 0.713858956577403\n",
      "F1-score promedio: 0.32403506223061646\n",
      "----------------\n",
      "\n",
      "\n",
      "----------------\n",
      "Resultados para clasificador:  Gaussian Naive Bayes\n",
      "Precision promedio: 0.15155958939399938\n",
      "Recall promedio: 0.40798036914541774\n",
      "F1-score promedio: 0.22101491157091657\n",
      "----------------\n",
      "\n",
      "\n",
      "----------------\n",
      "Resultados para clasificador:  KNN\n",
      "Precision promedio: 0.2160815846244362\n",
      "Recall promedio: 0.5877520537714712\n",
      "F1-score promedio: 0.31599174027761834\n",
      "----------------\n",
      "\n",
      "\n"
     ]
    }
   ],
   "source": [
    "def run_classifier(clf, X, y, Xt, yt, num_tests=100):\n",
    "    metrics = {'f1-score': [], 'precision': [], 'recall': []}\n",
    "\n",
    "    for _ in range(num_tests):\n",
    "        X_train, X_test, y_train, y_test = X, Xt, y, yt\n",
    "\n",
    "        clf.fit(X_train, y_train)\n",
    "        predictions = clf.predict(X_test)\n",
    "\n",
    "        metrics['y_pred'] = predictions\n",
    "        metrics['f1-score'].append(f1_score(y_test, predictions)) \n",
    "        metrics['recall'].append(recall_score(y_test, predictions))\n",
    "        metrics['precision'].append(precision_score(y_test, predictions))\n",
    "    return metrics\n",
    "\n",
    "y = df['Severity'].to_numpy()\n",
    "X = df.drop('Severity', axis=1)[[\"Start_Lng\", \"Temperature.C.\", \"Wind_Chill.C.\", \"Humidity...\", \"Pressure.pa.\", \n",
    "             \"Wind_Speed.kmh.\", \"Junction\", \"Traffic_Signal\", \"Sunrise_Sunset\"]].to_numpy()\n",
    "yt = df2['Severity'].to_numpy()\n",
    "Xt = df2.drop('Severity', axis=1)[[\"Start_Lng\", \"Temperature.C.\", \"Wind_Chill.C.\", \"Humidity...\", \"Pressure.pa.\", \n",
    "             \"Wind_Speed.kmh.\", \"Junction\", \"Traffic_Signal\", \"Sunrise_Sunset\"]].to_numpy()\n",
    "\n",
    "c0 = (\"Base Dummy\", DummyClassifier(strategy='stratified'))\n",
    "c1 = (\"Decision Tree\", DecisionTreeClassifier(max_depth=5))\n",
    "c2 = (\"Gaussian Naive Bayes\", GaussianNB())\n",
    "c3 = (\"KNN\", KNeighborsClassifier(n_neighbors=10))\n",
    "\n",
    "classifiers = [c0, c1, c2, c3]\n",
    "\n",
    "results = {}\n",
    "for name, clf in classifiers:\n",
    "    metrics = run_classifier(clf, X, y, Xt, yt)   # hay que implementarla en el bloque anterior.\n",
    "    results[name] = metrics\n",
    "    print(\"----------------\")\n",
    "    print(\"Resultados para clasificador: \", name) \n",
    "    print(\"Precision promedio:\", np.array(metrics['precision']).mean())\n",
    "    print(\"Recall promedio:\", np.array(metrics['recall']).mean())\n",
    "    print(\"F1-score promedio:\", np.array(metrics['f1-score']).mean())\n",
    "    print(\"----------------\\n\\n\")\n",
    "    \n",
    "#     # Visualización del árbol de decisión\n",
    "#     if name == \"Decision Tree\":\n",
    "#         dot_data = export_graphviz(clf, out_file=None, feature_names=df.drop('Severity', axis=1).columns, class_names=['0', '1'], filled=True, rounded=True, special_characters=True)\n",
    "#         graph = graphviz.Source(dot_data)\n",
    "#         graph.view()"
   ]
  },
  {
   "cell_type": "markdown",
   "metadata": {
    "id": "LcDLGWRD9zxg"
   },
   "source": [
    "# Sección nueva"
   ]
  },
  {
   "cell_type": "code",
   "execution_count": null,
   "metadata": {
    "id": "IMj0EejH92E4"
   },
   "outputs": [],
   "source": [
    "from google.colab import drive\n",
    "drive.mount('/content/drive')"
   ]
  }
 ],
 "metadata": {
  "colab": {
   "provenance": []
  },
  "kernelspec": {
   "display_name": "Python 3 (ipykernel)",
   "language": "python",
   "name": "python3"
  },
  "language_info": {
   "codemirror_mode": {
    "name": "ipython",
    "version": 3
   },
   "file_extension": ".py",
   "mimetype": "text/x-python",
   "name": "python",
   "nbconvert_exporter": "python",
   "pygments_lexer": "ipython3",
   "version": "3.10.9"
  }
 },
 "nbformat": 4,
 "nbformat_minor": 1
}
