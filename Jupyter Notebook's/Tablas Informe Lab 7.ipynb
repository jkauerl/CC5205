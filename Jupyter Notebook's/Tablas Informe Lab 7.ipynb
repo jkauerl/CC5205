{
 "cells": [
  {
   "cell_type": "markdown",
   "id": "70a2e567",
   "metadata": {},
   "source": [
    "# Ejemplo"
   ]
  },
  {
   "cell_type": "code",
   "execution_count": 1,
   "id": "8e040296",
   "metadata": {},
   "outputs": [
    {
     "name": "stdout",
     "output_type": "stream",
     "text": [
      "\\begin{tabular}{lrrr}\n",
      "\\toprule\n",
      "{} &  1 &  2 &  3 \\\\\n",
      "Hola &    &    &    \\\\\n",
      "\\midrule\n",
      "a    &  1 &  4 &  7 \\\\\n",
      "b    &  2 &  5 &  8 \\\\\n",
      "c    &  3 &  6 &  9 \\\\\n",
      "\\bottomrule\n",
      "\\end{tabular}\n",
      "\n"
     ]
    },
    {
     "data": {
      "text/html": [
       "<div>\n",
       "<style scoped>\n",
       "    .dataframe tbody tr th:only-of-type {\n",
       "        vertical-align: middle;\n",
       "    }\n",
       "\n",
       "    .dataframe tbody tr th {\n",
       "        vertical-align: top;\n",
       "    }\n",
       "\n",
       "    .dataframe thead th {\n",
       "        text-align: right;\n",
       "    }\n",
       "</style>\n",
       "<table border=\"1\" class=\"dataframe\">\n",
       "  <thead>\n",
       "    <tr style=\"text-align: right;\">\n",
       "      <th></th>\n",
       "      <th>1</th>\n",
       "      <th>2</th>\n",
       "      <th>3</th>\n",
       "    </tr>\n",
       "    <tr>\n",
       "      <th>Hola</th>\n",
       "      <th></th>\n",
       "      <th></th>\n",
       "      <th></th>\n",
       "    </tr>\n",
       "  </thead>\n",
       "  <tbody>\n",
       "    <tr>\n",
       "      <th>a</th>\n",
       "      <td>1</td>\n",
       "      <td>4</td>\n",
       "      <td>7</td>\n",
       "    </tr>\n",
       "    <tr>\n",
       "      <th>b</th>\n",
       "      <td>2</td>\n",
       "      <td>5</td>\n",
       "      <td>8</td>\n",
       "    </tr>\n",
       "    <tr>\n",
       "      <th>c</th>\n",
       "      <td>3</td>\n",
       "      <td>6</td>\n",
       "      <td>9</td>\n",
       "    </tr>\n",
       "  </tbody>\n",
       "</table>\n",
       "</div>"
      ],
      "text/plain": [
       "      1  2  3\n",
       "Hola         \n",
       "a     1  4  7\n",
       "b     2  5  8\n",
       "c     3  6  9"
      ]
     },
     "execution_count": 1,
     "metadata": {},
     "output_type": "execute_result"
    }
   ],
   "source": [
    "import pandas as pd \n",
    "tabla = pd.DataFrame({ \n",
    "    \"1\": [1, 2, 3], \n",
    "    \"2\": [4, 5, 6], \n",
    "    \"3\": [7, 8, 9], \n",
    "}, index=pd.Index([\"a\", \"b\", \"c\"], name=\"Hola\")) \n",
    "print(tabla.to_latex()) \n",
    "tabla"
   ]
  },
  {
   "cell_type": "markdown",
   "id": "073b780c",
   "metadata": {},
   "source": [
    "# P1"
   ]
  },
  {
   "cell_type": "code",
   "execution_count": 2,
   "id": "ddc9193f",
   "metadata": {
    "scrolled": true
   },
   "outputs": [
    {
     "name": "stdout",
     "output_type": "stream",
     "text": [
      "\\begin{tabular}{lccc}\n",
      "\\toprule\n",
      "{} &   Tuplas &  Bloques &  Tuplas por Bloques Promedio \\\\\n",
      "Tablas         &          &          &                              \\\\\n",
      "\\midrule\n",
      "Película100    &    72696 &      598 &                     121.5652 \\\\\n",
      "Película1000   &    22490 &      183 &                     122.8962 \\\\\n",
      "Película10000  &     6401 &       52 &                     123.0962 \\\\\n",
      "Actor100       &   856421 &     5278 &                     162.2624 \\\\\n",
      "Actor1000      &   440234 &     2712 &                     162.3282 \\\\\n",
      "Actor10000     &   197219 &     1215 &                     162.3202 \\\\\n",
      "Personaje100   &  2170526 &    21409 &                     101.3838 \\\\\n",
      "Personaje1000  &   944964 &     9330 &                     101.2823 \\\\\n",
      "Personaje10000 &   372367 &     3684 &                     101.0768 \\\\\n",
      "\\bottomrule\n",
      "\\end{tabular}\n",
      "\n"
     ]
    },
    {
     "data": {
      "text/html": [
       "<div>\n",
       "<style scoped>\n",
       "    .dataframe tbody tr th:only-of-type {\n",
       "        vertical-align: middle;\n",
       "    }\n",
       "\n",
       "    .dataframe tbody tr th {\n",
       "        vertical-align: top;\n",
       "    }\n",
       "\n",
       "    .dataframe thead th {\n",
       "        text-align: right;\n",
       "    }\n",
       "</style>\n",
       "<table border=\"1\" class=\"dataframe\">\n",
       "  <thead>\n",
       "    <tr style=\"text-align: right;\">\n",
       "      <th></th>\n",
       "      <th>Tuplas</th>\n",
       "      <th>Bloques</th>\n",
       "      <th>Tuplas por Bloques Promedio</th>\n",
       "    </tr>\n",
       "    <tr>\n",
       "      <th>Tablas</th>\n",
       "      <th></th>\n",
       "      <th></th>\n",
       "      <th></th>\n",
       "    </tr>\n",
       "  </thead>\n",
       "  <tbody>\n",
       "    <tr>\n",
       "      <th>Película100</th>\n",
       "      <td>72696</td>\n",
       "      <td>598</td>\n",
       "      <td>121.5652</td>\n",
       "    </tr>\n",
       "    <tr>\n",
       "      <th>Película1000</th>\n",
       "      <td>22490</td>\n",
       "      <td>183</td>\n",
       "      <td>122.8962</td>\n",
       "    </tr>\n",
       "    <tr>\n",
       "      <th>Película10000</th>\n",
       "      <td>6401</td>\n",
       "      <td>52</td>\n",
       "      <td>123.0962</td>\n",
       "    </tr>\n",
       "    <tr>\n",
       "      <th>Actor100</th>\n",
       "      <td>856421</td>\n",
       "      <td>5278</td>\n",
       "      <td>162.2624</td>\n",
       "    </tr>\n",
       "    <tr>\n",
       "      <th>Actor1000</th>\n",
       "      <td>440234</td>\n",
       "      <td>2712</td>\n",
       "      <td>162.3282</td>\n",
       "    </tr>\n",
       "    <tr>\n",
       "      <th>Actor10000</th>\n",
       "      <td>197219</td>\n",
       "      <td>1215</td>\n",
       "      <td>162.3202</td>\n",
       "    </tr>\n",
       "    <tr>\n",
       "      <th>Personaje100</th>\n",
       "      <td>2170526</td>\n",
       "      <td>21409</td>\n",
       "      <td>101.3838</td>\n",
       "    </tr>\n",
       "    <tr>\n",
       "      <th>Personaje1000</th>\n",
       "      <td>944964</td>\n",
       "      <td>9330</td>\n",
       "      <td>101.2823</td>\n",
       "    </tr>\n",
       "    <tr>\n",
       "      <th>Personaje10000</th>\n",
       "      <td>372367</td>\n",
       "      <td>3684</td>\n",
       "      <td>101.0768</td>\n",
       "    </tr>\n",
       "  </tbody>\n",
       "</table>\n",
       "</div>"
      ],
      "text/plain": [
       "                 Tuplas  Bloques  Tuplas por Bloques Promedio\n",
       "Tablas                                                       \n",
       "Película100       72696      598                     121.5652\n",
       "Película1000      22490      183                     122.8962\n",
       "Película10000      6401       52                     123.0962\n",
       "Actor100         856421     5278                     162.2624\n",
       "Actor1000        440234     2712                     162.3282\n",
       "Actor10000       197219     1215                     162.3202\n",
       "Personaje100    2170526    21409                     101.3838\n",
       "Personaje1000    944964     9330                     101.2823\n",
       "Personaje10000   372367     3684                     101.0768"
      ]
     },
     "execution_count": 2,
     "metadata": {},
     "output_type": "execute_result"
    }
   ],
   "source": [
    "import pandas as pd \n",
    "tabla = pd.DataFrame({ \n",
    "    \"Tuplas\": [72696, 22490, 6401, 856421, 440234, 197219, 2170526, 944964, 372367],\n",
    "    \"Bloques\": [598, 183, 52, 5278, 2712, 1215, 21409, 9330, 3684],\n",
    "    \"Tuplas por Bloques Promedio\": [121.5652, 122.8962, 123.0962, 162.2624, 162.3282, 162.3202, 101.3838, 101.2823, 101.0768]\n",
    "}, index=pd.Index([\"Película100\", \"Película1000\", \"Película10000\", \"Actor100\", \"Actor1000\", \"Actor10000\", \"Personaje100\", \"Personaje1000\", \"Personaje10000\"], name=\"Tablas\")) \n",
    "print(tabla.to_latex(column_format=\"lccc\")) \n",
    "tabla"
   ]
  },
  {
   "cell_type": "markdown",
   "id": "b5c3401f",
   "metadata": {},
   "source": [
    "# P3"
   ]
  },
  {
   "cell_type": "code",
   "execution_count": 36,
   "id": "b012432a",
   "metadata": {},
   "outputs": [
    {
     "name": "stdout",
     "output_type": "stream",
     "text": [
      "\\begin{tabular}{lrrr}\n",
      "\\toprule\n",
      "{} &  Plan de Consulta (ms) &  Tiempo de Ejecución (ms) &  Consultas por Segundo \\\\\n",
      "Esquemas &                        &                           &                        \\\\\n",
      "\\midrule\n",
      "Opt      &                  0.251 &                   268.177 &               0.268428 \\\\\n",
      "Opti     &                  0.647 &                     0.176 &               0.000823 \\\\\n",
      "\\bottomrule\n",
      "\\end{tabular}\n",
      "\n"
     ]
    },
    {
     "data": {
      "text/plain": [
       "Plan de Consulta (ms)       float64\n",
       "Tiempo de Ejecución (ms)    float64\n",
       "Consultas por Segundo       float64\n",
       "dtype: object"
      ]
     },
     "execution_count": 36,
     "metadata": {},
     "output_type": "execute_result"
    }
   ],
   "source": [
    "import pandas as pd \n",
    "tabla = pd.DataFrame({ \n",
    "    \"Plan de Consulta (ms)\": [0.251 , 0.647],\n",
    "    \"Tiempo de Ejecución (ms)\": [ 268.177, 0.176],\n",
    "    \"Consultas por Segundo\": [ 0.268428, 0.000823]\n",
    "}, index=pd.Index([\"Opt\", \"Opti\"], name=\"Esquemas\")) \n",
    "print(tabla.to_latex()) \n",
    "tabla.dtypes"
   ]
  },
  {
   "cell_type": "markdown",
   "id": "d92b6ac0",
   "metadata": {},
   "source": [
    "# P4"
   ]
  },
  {
   "cell_type": "code",
   "execution_count": 39,
   "id": "511f5b18",
   "metadata": {
    "scrolled": true
   },
   "outputs": [
    {
     "name": "stdout",
     "output_type": "stream",
     "text": [
      "\\begin{tabular}{lr}\n",
      "\\toprule\n",
      "{} &  Cantidad Estimada de Bloques Leídos  \\\\\n",
      "Esquemas &                                       \\\\\n",
      "\\midrule\n",
      "Opt      &                                 21409 \\\\\n",
      "Opti     &                                     1 \\\\\n",
      "\\bottomrule\n",
      "\\end{tabular}\n",
      "\n"
     ]
    },
    {
     "data": {
      "text/html": [
       "<div>\n",
       "<style scoped>\n",
       "    .dataframe tbody tr th:only-of-type {\n",
       "        vertical-align: middle;\n",
       "    }\n",
       "\n",
       "    .dataframe tbody tr th {\n",
       "        vertical-align: top;\n",
       "    }\n",
       "\n",
       "    .dataframe thead th {\n",
       "        text-align: right;\n",
       "    }\n",
       "</style>\n",
       "<table border=\"1\" class=\"dataframe\">\n",
       "  <thead>\n",
       "    <tr style=\"text-align: right;\">\n",
       "      <th></th>\n",
       "      <th>Cantidad Estimada de Bloques Leídos</th>\n",
       "    </tr>\n",
       "    <tr>\n",
       "      <th>Esquemas</th>\n",
       "      <th></th>\n",
       "    </tr>\n",
       "  </thead>\n",
       "  <tbody>\n",
       "    <tr>\n",
       "      <th>Opt</th>\n",
       "      <td>21409</td>\n",
       "    </tr>\n",
       "    <tr>\n",
       "      <th>Opti</th>\n",
       "      <td>1</td>\n",
       "    </tr>\n",
       "  </tbody>\n",
       "</table>\n",
       "</div>"
      ],
      "text/plain": [
       "          Cantidad Estimada de Bloques Leídos \n",
       "Esquemas                                      \n",
       "Opt                                      21409\n",
       "Opti                                         1"
      ]
     },
     "execution_count": 39,
     "metadata": {},
     "output_type": "execute_result"
    }
   ],
   "source": [
    "import pandas as pd \n",
    "tabla = pd.DataFrame({ \n",
    "    \"Cantidad Estimada de Bloques Leídos \": [21409  , 1  ],\n",
    "}, index=pd.Index([\"Opt\", \"Opti\"], name=\"Esquemas\")) \n",
    "print(tabla.to_latex()) \n",
    "tabla"
   ]
  },
  {
   "cell_type": "markdown",
   "id": "9e1b3b39",
   "metadata": {},
   "source": [
    "# P5"
   ]
  },
  {
   "cell_type": "code",
   "execution_count": 40,
   "id": "c02ccace",
   "metadata": {},
   "outputs": [
    {
     "name": "stdout",
     "output_type": "stream",
     "text": [
      "\\begin{tabular}{lr}\n",
      "\\toprule\n",
      "{} &  Plan de Consulta \\\\\n",
      "Esquemas &                   \\\\\n",
      "\\midrule\n",
      "Opt      &             21409 \\\\\n",
      "Opti     &                 1 \\\\\n",
      "\\bottomrule\n",
      "\\end{tabular}\n",
      "\n"
     ]
    },
    {
     "data": {
      "text/html": [
       "<div>\n",
       "<style scoped>\n",
       "    .dataframe tbody tr th:only-of-type {\n",
       "        vertical-align: middle;\n",
       "    }\n",
       "\n",
       "    .dataframe tbody tr th {\n",
       "        vertical-align: top;\n",
       "    }\n",
       "\n",
       "    .dataframe thead th {\n",
       "        text-align: right;\n",
       "    }\n",
       "</style>\n",
       "<table border=\"1\" class=\"dataframe\">\n",
       "  <thead>\n",
       "    <tr style=\"text-align: right;\">\n",
       "      <th></th>\n",
       "      <th>Plan de Consulta</th>\n",
       "    </tr>\n",
       "    <tr>\n",
       "      <th>Esquemas</th>\n",
       "      <th></th>\n",
       "    </tr>\n",
       "  </thead>\n",
       "  <tbody>\n",
       "    <tr>\n",
       "      <th>Opt</th>\n",
       "      <td>21409</td>\n",
       "    </tr>\n",
       "    <tr>\n",
       "      <th>Opti</th>\n",
       "      <td>1</td>\n",
       "    </tr>\n",
       "  </tbody>\n",
       "</table>\n",
       "</div>"
      ],
      "text/plain": [
       "          Plan de Consulta\n",
       "Esquemas                  \n",
       "Opt                  21409\n",
       "Opti                     1"
      ]
     },
     "execution_count": 40,
     "metadata": {},
     "output_type": "execute_result"
    }
   ],
   "source": [
    "import pandas as pd \n",
    "tabla = pd.DataFrame({ \n",
    "    \"Plan de Consulta\": [ , ],\n",
    "}, index=pd.Index([\"Opt\", \"Opti\"], name=\"Esquemas\")) \n",
    "print(tabla.to_latex()) \n",
    "tabla"
   ]
  },
  {
   "cell_type": "markdown",
   "id": "3bcf768f",
   "metadata": {},
   "source": [
    "Tablas "
   ]
  },
  {
   "cell_type": "code",
   "execution_count": 4,
   "id": "21f3b762",
   "metadata": {},
   "outputs": [
    {
     "name": "stdout",
     "output_type": "stream",
     "text": [
      "\\begin{tabular}{lccc}\n",
      "\\toprule\n",
      "{} &  Plan de Consulta (ms) &  Tiempo de Ejecución (ms) \\\\\n",
      "Tipo de Consulta &                        &                           \\\\\n",
      "\\midrule\n",
      "Sin anidacion    &                  0.506 &                   318.590 \\\\\n",
      "Con anidación    &                  0.280 &                   206.563 \\\\\n",
      "\\bottomrule\n",
      "\\end{tabular}\n",
      "\n"
     ]
    },
    {
     "data": {
      "text/html": [
       "<div>\n",
       "<style scoped>\n",
       "    .dataframe tbody tr th:only-of-type {\n",
       "        vertical-align: middle;\n",
       "    }\n",
       "\n",
       "    .dataframe tbody tr th {\n",
       "        vertical-align: top;\n",
       "    }\n",
       "\n",
       "    .dataframe thead th {\n",
       "        text-align: right;\n",
       "    }\n",
       "</style>\n",
       "<table border=\"1\" class=\"dataframe\">\n",
       "  <thead>\n",
       "    <tr style=\"text-align: right;\">\n",
       "      <th></th>\n",
       "      <th>Plan de Consulta (ms)</th>\n",
       "      <th>Tiempo de Ejecución (ms)</th>\n",
       "    </tr>\n",
       "    <tr>\n",
       "      <th>Tipo de Consulta</th>\n",
       "      <th></th>\n",
       "      <th></th>\n",
       "    </tr>\n",
       "  </thead>\n",
       "  <tbody>\n",
       "    <tr>\n",
       "      <th>Sin anidacion</th>\n",
       "      <td>0.506</td>\n",
       "      <td>318.590</td>\n",
       "    </tr>\n",
       "    <tr>\n",
       "      <th>Con anidación</th>\n",
       "      <td>0.280</td>\n",
       "      <td>206.563</td>\n",
       "    </tr>\n",
       "  </tbody>\n",
       "</table>\n",
       "</div>"
      ],
      "text/plain": [
       "                  Plan de Consulta (ms)  Tiempo de Ejecución (ms)\n",
       "Tipo de Consulta                                                 \n",
       "Sin anidacion                     0.506                   318.590\n",
       "Con anidación                     0.280                   206.563"
      ]
     },
     "execution_count": 4,
     "metadata": {},
     "output_type": "execute_result"
    }
   ],
   "source": [
    "import pandas as pd \n",
    "tabla = pd.DataFrame({ \n",
    "    \"Plan de Consulta (ms)\": [0.506 , 0.280],\n",
    "    \"Tiempo de Ejecución (ms)\": [ 318.590, 206.563],\n",
    "}, index=pd.Index([\"Sin anidacion\", \"Con anidación\"], name=\"Tipo de Consulta\")) \n",
    "print(tabla.to_latex(column_format=\"lccc\")) \n",
    "tabla"
   ]
  },
  {
   "cell_type": "code",
   "execution_count": 3,
   "id": "61089478",
   "metadata": {
    "scrolled": true
   },
   "outputs": [
    {
     "name": "stdout",
     "output_type": "stream",
     "text": [
      "\\begin{tabular}{lccc}\n",
      "\\toprule\n",
      "{} &  Plan de Consulta (ms) &  Tiempo de Ejecución (ms) \\\\\n",
      "Tipo de Consulta &                        &                           \\\\\n",
      "\\midrule\n",
      "Sin anidación    &                  0.550 &                     1.524 \\\\\n",
      "Con anidación    &                  0.427 &                     1.793 \\\\\n",
      "\\bottomrule\n",
      "\\end{tabular}\n",
      "\n"
     ]
    },
    {
     "data": {
      "text/html": [
       "<div>\n",
       "<style scoped>\n",
       "    .dataframe tbody tr th:only-of-type {\n",
       "        vertical-align: middle;\n",
       "    }\n",
       "\n",
       "    .dataframe tbody tr th {\n",
       "        vertical-align: top;\n",
       "    }\n",
       "\n",
       "    .dataframe thead th {\n",
       "        text-align: right;\n",
       "    }\n",
       "</style>\n",
       "<table border=\"1\" class=\"dataframe\">\n",
       "  <thead>\n",
       "    <tr style=\"text-align: right;\">\n",
       "      <th></th>\n",
       "      <th>Plan de Consulta (ms)</th>\n",
       "      <th>Tiempo de Ejecución (ms)</th>\n",
       "    </tr>\n",
       "    <tr>\n",
       "      <th>Tipo de Consulta</th>\n",
       "      <th></th>\n",
       "      <th></th>\n",
       "    </tr>\n",
       "  </thead>\n",
       "  <tbody>\n",
       "    <tr>\n",
       "      <th>Sin anidación</th>\n",
       "      <td>0.550</td>\n",
       "      <td>1.524</td>\n",
       "    </tr>\n",
       "    <tr>\n",
       "      <th>Con anidación</th>\n",
       "      <td>0.427</td>\n",
       "      <td>1.793</td>\n",
       "    </tr>\n",
       "  </tbody>\n",
       "</table>\n",
       "</div>"
      ],
      "text/plain": [
       "                  Plan de Consulta (ms)  Tiempo de Ejecución (ms)\n",
       "Tipo de Consulta                                                 \n",
       "Sin anidación                     0.550                     1.524\n",
       "Con anidación                     0.427                     1.793"
      ]
     },
     "execution_count": 3,
     "metadata": {},
     "output_type": "execute_result"
    }
   ],
   "source": [
    "import pandas as pd \n",
    "tabla = pd.DataFrame({ \n",
    "    \"Plan de Consulta (ms)\": [ 0.550,0.427],\n",
    "    \"Tiempo de Ejecución (ms)\": [ 1.524,1.793],\n",
    "}, index=pd.Index([\"Sin anidación\", \"Con anidación\"], name=\"Tipo de Consulta\")) \n",
    "print(tabla.to_latex(column_format=\"lccc\")) \n",
    "tabla"
   ]
  },
  {
   "cell_type": "code",
   "execution_count": null,
   "id": "48eea95d",
   "metadata": {},
   "outputs": [],
   "source": [
    "n_tuplas = [372367, 944964, 2170526]\n",
    "[10000, 1000, 100]\n",
    "opt_p3 = np.array([ 61.481+0.249  , 0.269+169.788 , 0.260+269.106 ])\n",
    "opti_p3 = np.array([ 0.241+0.183 ,0.179 +0.187 , 0.176+0.186 ])\n",
    "\n",
    "opt_p5_sa = np.array([0.522+84.319, 0.490+161.408 , 0.451+271.518])\n",
    "opti_p5_sa = np.array([4.402+0.568 , 0.543+5.641 , 0.569+4.516])\n",
    "\n",
    "opt_p5_ca = np.array([ 0.169+58.661 , 0.148+118.951 , 0.372 +267.816 ])\n",
    "opti_p5_ca = np.array([0.439+3.751, 0.428+4.794 , 0.418+3.569])\n",
    "\n",
    "\n"
   ]
  }
 ],
 "metadata": {
  "kernelspec": {
   "display_name": "Python 3 (ipykernel)",
   "language": "python",
   "name": "python3"
  },
  "language_info": {
   "codemirror_mode": {
    "name": "ipython",
    "version": 3
   },
   "file_extension": ".py",
   "mimetype": "text/x-python",
   "name": "python",
   "nbconvert_exporter": "python",
   "pygments_lexer": "ipython3",
   "version": "3.9.7"
  }
 },
 "nbformat": 4,
 "nbformat_minor": 5
}
