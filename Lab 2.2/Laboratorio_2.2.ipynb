{
 "cells": [
  {
   "cell_type": "markdown",
   "metadata": {
    "id": "p_XcuC2rXQWb",
    "pycharm": {}
   },
   "source": [
    "# PAUTA Laboratorio 2.2: Clasificación\n",
    "\n",
    "Felipe Bravo-Marquez, Hernán Sarmiento, Gabriel Iturra-Bocaz, María José Zambrano\n",
    "\n",
    "Mayo 2023"
   ]
  },
  {
   "cell_type": "markdown",
   "metadata": {
    "id": "24Ix0w6aFE6K"
   },
   "source": [
    "# Declaración de compromiso ético\n",
    "\n",
    "\n",
    "Nosotros Diego Ignacio Faúndez Ortega y Javier Ignacio Kauer Lara, declaramos que realizamos de manera grupal los pasos de la presente actividad. También declaramos no incurrir en copia, ni compartir nuestras respuestas con otras personas ni con otros grupos. Por lo que, ratificamos que las respuestas son de nuestra propia confección y reflejan nuestro propio conocimiento."
   ]
  },
  {
   "cell_type": "markdown",
   "metadata": {
    "id": "SMUzxXj7XQWi",
    "pycharm": {}
   },
   "source": [
    "# Instrucciones\n",
    "\n",
    "\n",
    "1. Trabajen en equipos de dos personas. Salvo excepciones, no se corregirá entregas con menos de dos integrantes.\n",
    "\n",
    "2. Modifique este archivo `.ipynb` agregando sus respuestas donde corresponda. \n",
    "\n",
    "3. El formato de entrega para esta actividad es un archivo **html**. Genere un archivo HTML usando jupyter (ver tutorial 2) y súbalo a U-Cursos. Basta con que **uno de los integrantes haga la entrega**. Si ambos hacen una entrega en U-Cursos, se revisará cualquiera de éstas."
   ]
  },
  {
   "cell_type": "markdown",
   "metadata": {
    "id": "1Zo8shEyQ3um"
   },
   "source": [
    "# Estructura del laboratorio\n",
    "\n",
    "Este laboratorio está conformado por preguntas teóricas de temas vistos en clases y preguntas prácticas (donde se requiere completar código) intercaladas con preguntas de interpretación de resultados y análisis. La parte práctica se divide en: \n",
    "\n",
    "1. Comparar clasificadores con ciertos *baselines* o clasificadores base.\n",
    "2. Seleccionar hiperparámetros.\n",
    "3. Trabajar con clases desbalanceadas."
   ]
  },
  {
   "cell_type": "markdown",
   "metadata": {
    "id": "Ypf5cpbRQ3un"
   },
   "source": [
    "# Teoría"
   ]
  },
  {
   "cell_type": "markdown",
   "metadata": {
    "id": "un5w_agBQ3un"
   },
   "source": [
    "#### 1. Explique cómo escoge un árbol de decisión el atributo raíz.\n",
    "\n",
    "Respuesta: Para escoger el atributo raíz, se busca el atributo que maximize la \"Information Gain\". De esta forma se elige el atributo que produce los nodos más \"puros\"."
   ]
  },
  {
   "cell_type": "markdown",
   "metadata": {
    "id": "dbQc-0jJQ3un"
   },
   "source": [
    "#### 2. Explique la lógica de los clasificadores kNN.\n",
    "\n",
    "Respuesta: El clasificador kNN usa los k puntos más cercanos para obtener la clasificación. Para esto se requiere que los records tengan una métrica de distancia para poder medir que tan cerca se encuentran entre ellos, basandose en la lógica que los puntos cercanos a un punto x, problablemente se van a parecer entre si."
   ]
  },
  {
   "cell_type": "markdown",
   "metadata": {
    "id": "qKcXRw-EFE6Q"
   },
   "source": [
    "#### 3. En clasificación, ¿cuándo es conveniente escalar los atributos?. Indique una técnica para escalar atributos.\n",
    "\n",
    "Respuesta: Es conveniente escalar los atributos cuando algunos de estos empieza a dominar la métrica de la distacia. Una técnica para escalar atributos corresponde a la \"normalización a media cero y vrianza unitaria\"."
   ]
  },
  {
   "cell_type": "markdown",
   "metadata": {
    "id": "GKw1ZZVIQ3uo"
   },
   "source": [
    "#### 4. ¿Qué es overfitting y underfitting en machine learning?\n",
    "\n",
    "Respuesta: Overfitting y underfitting en machine learning, el primero corresponde a que cuando se entrena con datos demasiados especificos no permite que el modelo tenga una funcionalidad general, ya que está entrenado con los datos poco variados y el segundo corresponde a que cuando el modelo está entrenado con datos muy escazos al aplicarlo en la vida real, no se logra se logra abstraer de manera amplia la categoria a clasificar."
   ]
  },
  {
   "cell_type": "markdown",
   "metadata": {
    "id": "LCJ9w1GfXQXL",
    "pycharm": {}
   },
   "source": [
    "# Parte 1: Comparar clasificadores"
   ]
  },
  {
   "cell_type": "markdown",
   "metadata": {
    "id": "XqPvhC1XXADR"
   },
   "source": [
    "Una de las principales tareas en enfoques supervisados es evaluar diferentes clasificadores y encontrar el mejor rendimiento de alguno de ellos. Por ejemplo, si tenemos dos (o más) clasificadores y queremos compararlos entre sí, nos interesa responder: *¿Cuál de los clasificadores es el mejor?* \n",
    "Para responder esta pregunta, no existe una única solución. \n",
    "\n",
    "Lo que haremos a continuación será ejecutar diferentes clasificadores y compararlos en base a las métricas de Precision, Recall y F1-score."
   ]
  },
  {
   "cell_type": "markdown",
   "metadata": {
    "id": "c9ohYCUFXADR"
   },
   "source": [
    "## Pregunta 1.1  \n",
    "\n",
    "Para realizar la evaluación de distintos clasificadores, vamos a crear la función `run_classifier()`, la cual evalúa un clasificador `clf` recibido como parámetro, un dataset `X,y` (features y target) y un número de tests llamado `num_test`. Esta función almacena y retorna los valores de precision, recall y f1-score en la variable `metrics` además de los resultados de predicción.\n",
    "\n",
    "En base a lo anterior, incluya las sentencias que ajusten el modelo junto a su correspondiente predicción sobre los datos. **No use cross-validation ni tampoco el parámetro `random_state`.**\n"
   ]
  },
  {
   "cell_type": "code",
   "execution_count": 1,
   "metadata": {
    "ExecuteTime": {
     "end_time": "2020-09-28T01:11:34.028494Z",
     "start_time": "2020-09-28T01:11:34.018999Z"
    },
    "id": "TndzyqreXADS"
   },
   "outputs": [],
   "source": [
    "### COMPLETAR ESTE CÓDIGO\n",
    "\n",
    "## run_classifier recibe un clasificador y un dataset (X, y)\n",
    "## y opcionalmente la cantidad de resultados que se quiere obtener del clasificador\n",
    "\n",
    "from sklearn.metrics import f1_score, recall_score, precision_score\n",
    "from sklearn.model_selection import train_test_split\n",
    "import numpy as np\n",
    "\n",
    "def run_classifier(clf, X, y, num_tests=100):\n",
    "    metrics = {'f1-score': [], 'precision': [], 'recall': []}\n",
    "    \n",
    "    for _ in range(num_tests):\n",
    "        X_train, X_test, y_train, y_test = train_test_split(X, y, test_size=.30)\n",
    "        ### INICIO COMPLETAR ACÁ \n",
    "        \n",
    "        clf.fit(X_train, y_train)\n",
    "        predictions = clf.predict(X_test)\n",
    "        \n",
    "        #### TIP: en base a los set de entrenamiento, genere la variable 'predictions' \n",
    "        #### que contiene las predicciones del modelo\n",
    "        \n",
    "\n",
    "        \n",
    "        ### FIN COMPLETAR ACÁ\n",
    "        \n",
    "        metrics['y_pred'] = predictions\n",
    "        metrics['f1-score'].append(f1_score(y_test, predictions)) \n",
    "        metrics['recall'].append(recall_score(y_test, predictions))\n",
    "        metrics['precision'].append(precision_score(y_test, predictions))\n",
    "    return metrics"
   ]
  },
  {
   "cell_type": "markdown",
   "metadata": {
    "id": "VjXFx9xIXADU"
   },
   "source": [
    "Luego de completar el código anterior, ejecute el siguiente bloque para comparar distintos clasificadores. \n",
    "Usaremos un **dataset de cáncer de mamas** para evaluar. La información del dataset se puede encontrar en el siguiente link: \n",
    "https://archive.ics.uci.edu/ml/datasets/Haberman%27s+Survival"
   ]
  },
  {
   "cell_type": "code",
   "execution_count": 2,
   "metadata": {
    "id": "FenkMtUWiPOb"
   },
   "outputs": [],
   "source": [
    "import pandas as pd"
   ]
  },
  {
   "cell_type": "code",
   "execution_count": 3,
   "metadata": {
    "id": "cPXbVb38iTZT"
   },
   "outputs": [],
   "source": [
    "df = pd.read_csv('https://raw.githubusercontent.com/giturra/Lab2.2/main/haberman.csv')"
   ]
  },
  {
   "cell_type": "code",
   "execution_count": 4,
   "metadata": {
    "colab": {
     "base_uri": "https://localhost:8080/",
     "height": 206
    },
    "id": "RqAMpNSJi4Uy",
    "outputId": "a29c1d73-fc83-43da-d5b5-cc406d83305e"
   },
   "outputs": [
    {
     "data": {
      "text/html": [
       "<div>\n",
       "<style scoped>\n",
       "    .dataframe tbody tr th:only-of-type {\n",
       "        vertical-align: middle;\n",
       "    }\n",
       "\n",
       "    .dataframe tbody tr th {\n",
       "        vertical-align: top;\n",
       "    }\n",
       "\n",
       "    .dataframe thead th {\n",
       "        text-align: right;\n",
       "    }\n",
       "</style>\n",
       "<table border=\"1\" class=\"dataframe\">\n",
       "  <thead>\n",
       "    <tr style=\"text-align: right;\">\n",
       "      <th></th>\n",
       "      <th>Age of patient at time of operation</th>\n",
       "      <th>Patient's year of operation</th>\n",
       "      <th>Number of positive axillary nodes detected</th>\n",
       "      <th>Survival status</th>\n",
       "    </tr>\n",
       "  </thead>\n",
       "  <tbody>\n",
       "    <tr>\n",
       "      <th>0</th>\n",
       "      <td>30</td>\n",
       "      <td>64</td>\n",
       "      <td>1</td>\n",
       "      <td>1</td>\n",
       "    </tr>\n",
       "    <tr>\n",
       "      <th>1</th>\n",
       "      <td>30</td>\n",
       "      <td>62</td>\n",
       "      <td>3</td>\n",
       "      <td>1</td>\n",
       "    </tr>\n",
       "    <tr>\n",
       "      <th>2</th>\n",
       "      <td>30</td>\n",
       "      <td>65</td>\n",
       "      <td>0</td>\n",
       "      <td>1</td>\n",
       "    </tr>\n",
       "    <tr>\n",
       "      <th>3</th>\n",
       "      <td>31</td>\n",
       "      <td>59</td>\n",
       "      <td>2</td>\n",
       "      <td>1</td>\n",
       "    </tr>\n",
       "    <tr>\n",
       "      <th>4</th>\n",
       "      <td>31</td>\n",
       "      <td>65</td>\n",
       "      <td>4</td>\n",
       "      <td>1</td>\n",
       "    </tr>\n",
       "  </tbody>\n",
       "</table>\n",
       "</div>"
      ],
      "text/plain": [
       "   Age of patient at time of operation   Patient's year of operation  \\\n",
       "0                                   30                            64   \n",
       "1                                   30                            62   \n",
       "2                                   30                            65   \n",
       "3                                   31                            59   \n",
       "4                                   31                            65   \n",
       "\n",
       "    Number of positive axillary nodes detected   Survival status  \n",
       "0                                            1                 1  \n",
       "1                                            3                 1  \n",
       "2                                            0                 1  \n",
       "3                                            2                 1  \n",
       "4                                            4                 1  "
      ]
     },
     "execution_count": 4,
     "metadata": {},
     "output_type": "execute_result"
    }
   ],
   "source": [
    "df.head()"
   ]
  },
  {
   "cell_type": "code",
   "execution_count": 5,
   "metadata": {
    "id": "RlHSyCRji8aq"
   },
   "outputs": [],
   "source": [
    "# getting X and y\n",
    "df.rename(columns={\"age\": \"year\", \"nodes\": \"status\"})\n",
    "X = df.iloc[:, 0:3].to_numpy()\n",
    "y = df.iloc[:, 3].to_numpy()"
   ]
  },
  {
   "cell_type": "code",
   "execution_count": 6,
   "metadata": {
    "ExecuteTime": {
     "end_time": "2020-09-28T01:11:37.747387Z",
     "start_time": "2020-09-28T01:11:34.031505Z"
    },
    "colab": {
     "base_uri": "https://localhost:8080/"
    },
    "id": "-P2TfM7_XADU",
    "outputId": "43c7e7ea-1349-4ca7-ae3f-ea74291f4b8e",
    "scrolled": false
   },
   "outputs": [
    {
     "name": "stdout",
     "output_type": "stream",
     "text": [
      "----------------\n",
      "Resultados para clasificador:  Base Dummy\n",
      "Precision promedio: 0.7233021338735947\n",
      "Recall promedio: 0.7392097575533866\n",
      "F1-score promedio: 0.729174400247855\n",
      "----------------\n",
      "\n",
      "\n",
      "----------------\n",
      "Resultados para clasificador:  Decision Tree\n",
      "Precision promedio: 0.7731345729455096\n",
      "Recall promedio: 0.85397424158311\n",
      "F1-score promedio: 0.8091407348257724\n",
      "----------------\n",
      "\n",
      "\n",
      "----------------\n",
      "Resultados para clasificador:  Gaussian Naive Bayes\n",
      "Precision promedio: 0.7632272013658422\n",
      "Recall promedio: 0.9437324770715863\n",
      "F1-score promedio: 0.8431220180375516\n",
      "----------------\n",
      "\n",
      "\n",
      "----------------\n",
      "Resultados para clasificador:  KNN\n",
      "Precision promedio: 0.7615639326876046\n",
      "Recall promedio: 0.9419657007213275\n",
      "F1-score promedio: 0.8410320171461031\n",
      "----------------\n",
      "\n",
      "\n",
      "----------------\n",
      "Resultados para clasificador:  Support Vector Machines\n",
      "Precision promedio: 0.7296090287002039\n",
      "Recall promedio: 0.9863282652357301\n",
      "F1-score promedio: 0.8378261233497308\n",
      "----------------\n",
      "\n",
      "\n"
     ]
    }
   ],
   "source": [
    "## ejecutar este código\n",
    "\n",
    "from sklearn.datasets import load_breast_cancer\n",
    "from sklearn.dummy import DummyClassifier\n",
    "from sklearn.tree import DecisionTreeClassifier\n",
    "from sklearn.naive_bayes import GaussianNB  # naive bayes\n",
    "from sklearn.neighbors import KNeighborsClassifier #kNN\n",
    "from sklearn.svm import SVC  # support vector machine\n",
    "\n",
    "\n",
    "c0 = (\"Base Dummy\", DummyClassifier(strategy='stratified'))\n",
    "c1 = (\"Decision Tree\", DecisionTreeClassifier(max_depth=5))\n",
    "c2 = (\"Gaussian Naive Bayes\", GaussianNB())\n",
    "c3 = (\"KNN\", KNeighborsClassifier(n_neighbors=10))\n",
    "c4 = (\"Support Vector Machines\", SVC())\n",
    "\n",
    "classifiers = [c0, c1, c2, c3, c4]\n",
    "\n",
    "results = {}\n",
    "for name, clf in classifiers:\n",
    "    metrics = run_classifier(clf, X, y)   # hay que implementarla en el bloque anterior.\n",
    "    results[name] = metrics\n",
    "    print(\"----------------\")\n",
    "    print(\"Resultados para clasificador: \", name) \n",
    "    print(\"Precision promedio:\", np.array(metrics['precision']).mean())\n",
    "    print(\"Recall promedio:\", np.array(metrics['recall']).mean())\n",
    "    print(\"F1-score promedio:\", np.array(metrics['f1-score']).mean())\n",
    "    print(\"----------------\\n\\n\")  "
   ]
  },
  {
   "cell_type": "markdown",
   "metadata": {
    "id": "mcdnXXH6XADX"
   },
   "source": [
    "## Pregunta 1.2\n",
    "\n",
    "Analizando los resultados obtenidos de cada clasificador, y basándose en las métricas calculadas. ¿Cuál es el mejor clasificador? ¿Qué métricas observó para tomar esa decisión y por qué? considerando el problema que aborda. Fundamente su respuesta.\n",
    "\n",
    "(Considere *1* como clase positiva, y *2* como clase negativa.)"
   ]
  },
  {
   "cell_type": "markdown",
   "metadata": {},
   "source": [
    "Respuesta: El mejor clasificador a elegir corresponde a el \"Support Vector Machines\", esto debido a que corresponde al valor de recall más alto, lo cual significa que tiene la menor cantidad de falsos negativos. Aplicando esto al problema, significa que este clasificador tiene menor cantidad de canceres que pasan inadvertidos. Siguiendo esta lógica, a pesar que el modelo no tenga la mayor precisión, es preferible tener una mayor cantidad de personas sanas mal diagnosticada que al revés."
   ]
  },
  {
   "cell_type": "markdown",
   "metadata": {
    "id": "w4y5d8pjXADX"
   },
   "source": [
    "\n",
    "## Pregunta 1.3\n",
    "\n",
    "Analice el recall de la clase malignant ¿Cuál sería la razón de maximizar está métrica?"
   ]
  },
  {
   "cell_type": "markdown",
   "metadata": {},
   "source": [
    "Respuesta: La razón para máximizar esta métrica es para minimizar los falsos diagnósticos de cancer. Aunque de todas formas es preferible hacer un falso diagnóstico de cancer que un falso diagnósitco de salud. "
   ]
  },
  {
   "cell_type": "markdown",
   "metadata": {
    "ExecuteTime": {
     "end_time": "2020-09-28T00:01:32.541764Z",
     "start_time": "2020-09-28T00:01:32.538758Z"
    },
    "id": "dcgTjBD7XADZ"
   },
   "source": [
    "# Parte 2: Seleccionar hiperparámetros"
   ]
  },
  {
   "cell_type": "markdown",
   "metadata": {
    "id": "0p7LwuvEXADa"
   },
   "source": [
    "Los hiperparámetros son parámetros que no se aprenden directamente dentro de los estimadores. En scikit-learn se pasan como argumentos al constructor de las clases, por ejemplo, cuál kernel usar para Support Vector Classifier, o qué criterio para Decision Tree, etc. Es posible y recomendable buscar en el espacio de hiperparámetros la mejor alternativa.\n",
    "\n",
    "Tenga en cuenta que es común que un pequeño subconjunto de esos parámetros pueda tener un gran impacto en el rendimiento predictivo o de cálculo del modelo, mientras que otros pueden dejar sus valores predeterminados. Se recomienda leer la documentación de la clase de estimador para obtener una mejor comprensión de su comportamiento esperado.\n",
    "\n",
    "**Dataset:** En esta y la siguiente parte del laboratorio utilizaremos el dataset **\"ML Classification: Predicting 5-Year Career Longevity for NBA Rookies\"** de data.world (https://data.world/ssaudz/ml-classification-predicting-5-year-career-longevity-for-nb). Este dataset contiene estadísticas de los novatos en la NBA y busca predecir si un jugador podrá durar 5 años en la liga. La columna objetivo es *TARGET_5Yrs*. Esta es una versión preprocesada del dataset original (después de eliminar registros duplicados por nombre del jugador, anonimizar los datos, y eliminar los registros con valores nulos)."
   ]
  },
  {
   "cell_type": "code",
   "execution_count": 7,
   "metadata": {
    "colab": {
     "base_uri": "https://localhost:8080/"
    },
    "id": "CHAyDqQEFE6W",
    "outputId": "14ab9f6b-0bd1-4a7c-c46a-4067c79843cf",
    "scrolled": true
   },
   "outputs": [
    {
     "data": {
      "text/plain": [
       "(1284, 20)"
      ]
     },
     "execution_count": 7,
     "metadata": {},
     "output_type": "execute_result"
    }
   ],
   "source": [
    "import pandas as pd\n",
    "data = pd.read_csv('https://raw.githubusercontent.com/giturra/Lab2.2/main/longevity.csv')\n",
    "data.shape"
   ]
  },
  {
   "cell_type": "code",
   "execution_count": 8,
   "metadata": {
    "colab": {
     "base_uri": "https://localhost:8080/",
     "height": 112
    },
    "id": "GiboGdqyFE6X",
    "outputId": "1ec4a549-1a26-4b41-cd6c-ab4a010080bc"
   },
   "outputs": [
    {
     "data": {
      "text/html": [
       "<div>\n",
       "<style scoped>\n",
       "    .dataframe tbody tr th:only-of-type {\n",
       "        vertical-align: middle;\n",
       "    }\n",
       "\n",
       "    .dataframe tbody tr th {\n",
       "        vertical-align: top;\n",
       "    }\n",
       "\n",
       "    .dataframe thead th {\n",
       "        text-align: right;\n",
       "    }\n",
       "</style>\n",
       "<table border=\"1\" class=\"dataframe\">\n",
       "  <thead>\n",
       "    <tr style=\"text-align: right;\">\n",
       "      <th></th>\n",
       "      <th>GP</th>\n",
       "      <th>MIN</th>\n",
       "      <th>PTS</th>\n",
       "      <th>FGM</th>\n",
       "      <th>FGA</th>\n",
       "      <th>FG%</th>\n",
       "      <th>3P Made</th>\n",
       "      <th>3PA</th>\n",
       "      <th>3P%</th>\n",
       "      <th>FTM</th>\n",
       "      <th>FTA</th>\n",
       "      <th>FT%</th>\n",
       "      <th>OREB</th>\n",
       "      <th>DREB</th>\n",
       "      <th>REB</th>\n",
       "      <th>AST</th>\n",
       "      <th>STL</th>\n",
       "      <th>BLK</th>\n",
       "      <th>TOV</th>\n",
       "      <th>TARGET_5Yrs</th>\n",
       "    </tr>\n",
       "  </thead>\n",
       "  <tbody>\n",
       "    <tr>\n",
       "      <th>0</th>\n",
       "      <td>36</td>\n",
       "      <td>27.4</td>\n",
       "      <td>7.4</td>\n",
       "      <td>2.6</td>\n",
       "      <td>7.6</td>\n",
       "      <td>34.7</td>\n",
       "      <td>0.5</td>\n",
       "      <td>2.1</td>\n",
       "      <td>25.0</td>\n",
       "      <td>1.6</td>\n",
       "      <td>2.3</td>\n",
       "      <td>69.9</td>\n",
       "      <td>0.7</td>\n",
       "      <td>3.4</td>\n",
       "      <td>4.1</td>\n",
       "      <td>1.9</td>\n",
       "      <td>0.4</td>\n",
       "      <td>0.4</td>\n",
       "      <td>1.3</td>\n",
       "      <td>0</td>\n",
       "    </tr>\n",
       "    <tr>\n",
       "      <th>1</th>\n",
       "      <td>35</td>\n",
       "      <td>26.9</td>\n",
       "      <td>7.2</td>\n",
       "      <td>2.0</td>\n",
       "      <td>6.7</td>\n",
       "      <td>29.6</td>\n",
       "      <td>0.7</td>\n",
       "      <td>2.8</td>\n",
       "      <td>23.5</td>\n",
       "      <td>2.6</td>\n",
       "      <td>3.4</td>\n",
       "      <td>76.5</td>\n",
       "      <td>0.5</td>\n",
       "      <td>2.0</td>\n",
       "      <td>2.4</td>\n",
       "      <td>3.7</td>\n",
       "      <td>1.1</td>\n",
       "      <td>0.5</td>\n",
       "      <td>1.6</td>\n",
       "      <td>0</td>\n",
       "    </tr>\n",
       "  </tbody>\n",
       "</table>\n",
       "</div>"
      ],
      "text/plain": [
       "   GP   MIN  PTS  FGM  FGA   FG%  3P Made  3PA   3P%  FTM  FTA   FT%  OREB  \\\n",
       "0  36  27.4  7.4  2.6  7.6  34.7      0.5  2.1  25.0  1.6  2.3  69.9   0.7   \n",
       "1  35  26.9  7.2  2.0  6.7  29.6      0.7  2.8  23.5  2.6  3.4  76.5   0.5   \n",
       "\n",
       "   DREB  REB  AST  STL  BLK  TOV  TARGET_5Yrs  \n",
       "0   3.4  4.1  1.9  0.4  0.4  1.3            0  \n",
       "1   2.0  2.4  3.7  1.1  0.5  1.6            0  "
      ]
     },
     "execution_count": 8,
     "metadata": {},
     "output_type": "execute_result"
    }
   ],
   "source": [
    "data.head(2)"
   ]
  },
  {
   "cell_type": "code",
   "execution_count": 9,
   "metadata": {
    "id": "BXsLrbnKFE6X"
   },
   "outputs": [],
   "source": [
    "#separando atributos predictivos (X) del atributo objetivo (y)\n",
    "X = data.iloc[:,:-1].values\n",
    "y = data['TARGET_5Yrs'].values\n",
    "\n",
    "#dividiendo los datos de entrenamiento y validación\n",
    "X_train, X_test, y_train, y_test = train_test_split(X, y, test_size=.30,\n",
    "                                                    random_state=15, stratify=y)"
   ]
  },
  {
   "cell_type": "markdown",
   "metadata": {
    "id": "-XnXy9a7XADa"
   },
   "source": [
    "## GridSearchCV\n",
    "\n",
    "Una alternativa para seleccionar hiperparámetros es GridSearchCV, la cual considera exhaustivamente todas las combinaciones de parámetros. GridSearchCV recibe un `estimador`, `param_grid` (un diccionario o una lista de diccionarios con los nombres de los parámetros a probar como keys y una lista de los valores a probar), `scoring` una o varias funciones de puntuación (score) para evaluar cada combinación de parámetros (opciones válidas: https://scikit-learn.org/stable/modules/model_evaluation.html), y `cv` una extrategia para hacer validación cruzada.\n",
    "\n",
    "El siguiente código muestra cómo seleccionar el número de vecinos y qué pesos otorgar a los vecinos en un clasificador KNN."
   ]
  },
  {
   "cell_type": "code",
   "execution_count": 18,
   "metadata": {
    "ExecuteTime": {
     "end_time": "2020-09-28T01:11:38.025125Z",
     "start_time": "2020-09-28T01:11:37.749394Z"
    },
    "colab": {
     "base_uri": "https://localhost:8080/"
    },
    "id": "mlzgox92XADb",
    "outputId": "5c9fff23-2e1a-49c7-dec2-44b7232344f9"
   },
   "outputs": [
    {
     "name": "stdout",
     "output_type": "stream",
     "text": [
      "Mejor combinación de parámetros:\n",
      "{'n_neighbors': 10, 'weights': 'uniform'}\n",
      "              precision    recall  f1-score   support\n",
      "\n",
      "           0       0.64      0.60      0.62       145\n",
      "           1       0.77      0.80      0.78       241\n",
      "\n",
      "    accuracy                           0.73       386\n",
      "   macro avg       0.71      0.70      0.70       386\n",
      "weighted avg       0.72      0.73      0.72       386\n",
      "\n"
     ]
    }
   ],
   "source": [
    "from sklearn.model_selection import GridSearchCV\n",
    "from sklearn.metrics import classification_report\n",
    "\n",
    "\n",
    "#Configure tuned_parameters\n",
    "tuned_parameters = {'n_neighbors': [1, 3, 5, 10], \n",
    "                    'weights': ['uniform','distance']}\n",
    "\n",
    "#set scoring metric\n",
    "score = 'precision' \n",
    "\n",
    "#Construir el clf con GridSearch\n",
    "clf = GridSearchCV(KNeighborsClassifier(), \n",
    "                   param_grid=tuned_parameters, \n",
    "                   cv=5,\n",
    "                   scoring=score)\n",
    "\n",
    "#Entrenar clf\n",
    "clf.fit(X_train, y_train)\n",
    "\n",
    "print(\"Mejor combinación de parámetros:\")\n",
    "print(clf.best_params_)\n",
    " \n",
    "y_pred = clf.predict(X_test)\n",
    "\n",
    "print(classification_report(y_test, y_pred))"
   ]
  },
  {
   "cell_type": "markdown",
   "metadata": {
    "id": "BX8g3y2zXADd"
   },
   "source": [
    "## Pregunta 2.1\n",
    "\n",
    "*  a) Utilizando los datos del bloque anterior (NBA_career_longevity.csv), realice este mismo proceso para un clasificador `DecisionTree` y los parametros `criterion=['gini','entropy']`, `max_depth=[3,5,7,10]` y tomando como `scoring` metric `'f1'`. Use `cv=10`.\n",
    "*  b) ¿Qué puede decir de los resultados, con cuáles parámetros los obtuvo (revise que su respuesta concuerde con los resultados que imprime)? ¿Cuál considera que es la principal ventaja de aplicar GridSearchCV? ¿Considera que es necesario seguir explorando los parámetros?"
   ]
  },
  {
   "cell_type": "code",
   "execution_count": 19,
   "metadata": {
    "ExecuteTime": {
     "end_time": "2020-09-28T01:11:38.300858Z",
     "start_time": "2020-09-28T01:11:38.027133Z"
    },
    "colab": {
     "base_uri": "https://localhost:8080/"
    },
    "id": "vSmxont4XADd",
    "outputId": "91458246-b3e2-4dc6-f0df-1fc93d8d3dea"
   },
   "outputs": [
    {
     "name": "stdout",
     "output_type": "stream",
     "text": [
      "Mejor combinación de parámetros:\n",
      "{'criterion': 'gini', 'max_depth': 3}\n",
      "              precision    recall  f1-score   support\n",
      "\n",
      "           0       0.62      0.59      0.61       145\n",
      "           1       0.76      0.78      0.77       241\n",
      "\n",
      "    accuracy                           0.71       386\n",
      "   macro avg       0.69      0.69      0.69       386\n",
      "weighted avg       0.71      0.71      0.71       386\n",
      "\n"
     ]
    }
   ],
   "source": [
    "## RESPUESTA A PREGUNTA 2.1 a)\n",
    "\n",
    "## COMPLETE ACÁ\n",
    "criterion=['gini','entropy']\n",
    "max_depth=[3,5,7,10]\n",
    "\n",
    "tuned_parameters = {'criterion': criterion, 'max_depth': max_depth}\n",
    "score = 'f1'\n",
    "\n",
    "clf = GridSearchCV(DecisionTreeClassifier(), param_grid=tuned_parameters, cv=10, scoring=score)\n",
    "clf.fit(X_train, y_train)\n",
    "\n",
    "print(\"Mejor combinación de parámetros:\")\n",
    "print(clf.best_params_)\n",
    " \n",
    "y_pred = clf.predict(X_test)\n",
    "print(classification_report(y_test, y_pred))"
   ]
  },
  {
   "cell_type": "markdown",
   "metadata": {
    "id": "kXKBdWKoXADp"
   },
   "source": [
    "Respuesta b: Los parametros que se usaron son, 'gini' y un max_depth de 3. La principal ventaja de GridSearchCV, que se ahorra tiempo al pasar muchos parametros y elegir los mejores. Si es necesario seguir explorando los parámetros, porque podrían haber mejores resultados para las métricas obtenidas (precision, recall, y f1-score)."
   ]
  },
  {
   "cell_type": "markdown",
   "metadata": {
    "id": "Rf4BSIjTXADq"
   },
   "source": [
    "# Parte 3: Trabajar con clases desbalanceadas"
   ]
  },
  {
   "cell_type": "markdown",
   "metadata": {
    "id": "W3fb8kQ7XADq"
   },
   "source": [
    "Al explorar el dataset anterior, se nota un desbalance importante (38%-62%). Para mejorar el rendimiento de un clasificador sobre clases desbalanceadas existen varias técnicas. En esta parte, veremos cómo tratar con este problema usando (sub/over) sampling de las clases.\n",
    "\n",
    "(*Nota: Para ejecutar el siguiente bloque es necesaria la librería `pandas` que viene incluida en Anaconda.*)"
   ]
  },
  {
   "cell_type": "markdown",
   "metadata": {
    "ExecuteTime": {
     "end_time": "2020-09-28T00:36:22.116129Z",
     "start_time": "2020-09-28T00:36:22.111116Z"
    },
    "id": "QFNMUPd-XADu"
   },
   "source": [
    "Note el desbalance de las clases ejecutando el siguiente código:"
   ]
  },
  {
   "cell_type": "code",
   "execution_count": 20,
   "metadata": {
    "ExecuteTime": {
     "end_time": "2020-09-28T01:11:38.476062Z",
     "start_time": "2020-09-28T01:11:38.467038Z"
    },
    "colab": {
     "base_uri": "https://localhost:8080/"
    },
    "id": "lXrcsboyXADu",
    "outputId": "1a6e8aa3-5e6c-48de-d2fa-bd6971ca6ad3"
   },
   "outputs": [
    {
     "name": "stdout",
     "output_type": "stream",
     "text": [
      "Distribucion de clases original\n"
     ]
    },
    {
     "data": {
      "text/plain": [
       "1    802\n",
       "0    482\n",
       "Name: TARGET_5Yrs, dtype: int64"
      ]
     },
     "execution_count": 20,
     "metadata": {},
     "output_type": "execute_result"
    }
   ],
   "source": [
    "print(\"Distribucion de clases original\")\n",
    "data['TARGET_5Yrs'].value_counts()"
   ]
  },
  {
   "cell_type": "markdown",
   "metadata": {
    "id": "nlMr6-9GXADx"
   },
   "source": [
    "Antes de hacer algo para tratar el desbalance entre las clases primero debemos dividir en train-test. Como ya hicimos la partición de train y test, vamos a explorarla a continuación."
   ]
  },
  {
   "cell_type": "code",
   "execution_count": 21,
   "metadata": {
    "ExecuteTime": {
     "end_time": "2020-09-28T01:11:38.496117Z",
     "start_time": "2020-09-28T01:11:38.478068Z"
    },
    "colab": {
     "base_uri": "https://localhost:8080/"
    },
    "id": "Qr7JzTG-XADy",
    "outputId": "0eb26ec1-cccd-4d59-c40a-cae6af781a75"
   },
   "outputs": [
    {
     "name": "stdout",
     "output_type": "stream",
     "text": [
      "Cantidad de instancias por clase en el train:\n",
      "Clase 1: 561\n",
      "Clase 0: 337\n"
     ]
    }
   ],
   "source": [
    "#Dividmos igual que arriba. \n",
    "#Para facilitar el balance manual, X contendrá el dataset completo, pero luego eliminaremos de este el atributo objetivo.\n",
    "\n",
    "data_train, data_test, ytrain, ytest = train_test_split(data, data['TARGET_5Yrs'], test_size=.30,\n",
    "                                                random_state=15, stratify=data['TARGET_5Yrs'])\n",
    "\n",
    "print(\"Cantidad de instancias por clase en el train:\")\n",
    "print(\"Clase 1: \" + str((ytrain==1).sum()))\n",
    "print(\"Clase 0: \" + str((ytrain==0).sum()))"
   ]
  },
  {
   "cell_type": "markdown",
   "metadata": {
    "id": "q_X5CY14XAD3"
   },
   "source": [
    "Aplicaremos **oversampling** y **subsampling** al train para que queden balanceados. Ejecute el siguiente código y note ahora que las clases están balanceadas. "
   ]
  },
  {
   "cell_type": "code",
   "execution_count": 22,
   "metadata": {
    "ExecuteTime": {
     "end_time": "2020-09-28T01:11:38.534218Z",
     "start_time": "2020-09-28T01:11:38.510154Z"
    },
    "colab": {
     "base_uri": "https://localhost:8080/"
    },
    "id": "WpXH_EZkXAD4",
    "outputId": "bd0a4aa9-6173-4e59-e35a-65697652d415"
   },
   "outputs": [
    {
     "name": "stdout",
     "output_type": "stream",
     "text": [
      "Distribución de clases usando (over/sub) sampling: \n",
      "\n",
      "Data oversampled on class '0'\n",
      "1    561\n",
      "0    561\n",
      "Name: TARGET_5Yrs, dtype: int64\n",
      "\n",
      "Data subsampled on class '1'\n",
      "1    337\n",
      "0    337\n",
      "Name: TARGET_5Yrs, dtype: int64\n"
     ]
    }
   ],
   "source": [
    "print(\"Distribución de clases usando (over/sub) sampling: \\n\")\n",
    "data_train = data_train.reset_index(drop=True)\n",
    "\n",
    "# oversampling sobre la clase 0\n",
    "idx = np.random.choice(data_train[data_train['TARGET_5Yrs'] == 0].index, size=224)\n",
    "data_oversampled = pd.concat([data_train, data_train.iloc[idx]])\n",
    "print(\"Data oversampled on class '0'\")\n",
    "print(data_oversampled['TARGET_5Yrs'].value_counts())\n",
    "print()\n",
    "\n",
    "\n",
    "# subsampling sobre la clase 1\n",
    "idx = np.random.choice(data_train.loc[data_train.TARGET_5Yrs == 1].index, size=224, replace=False)\n",
    "data_subsampled = data_train.drop(data_train.iloc[idx].index)\n",
    "print(\"Data subsampled on class '1'\")\n",
    "print(data_subsampled['TARGET_5Yrs'].value_counts())"
   ]
  },
  {
   "cell_type": "markdown",
   "metadata": {
    "id": "urh4G7FhXAD6"
   },
   "source": [
    "**Nota:** *Librerías como `imblearn` son muy útiles para balancear los datos.*"
   ]
  },
  {
   "cell_type": "markdown",
   "metadata": {
    "id": "lNRoMB4bXAD6"
   },
   "source": [
    "## Pregunta 3. 1\n",
    "\n",
    "¿Por qué aplicar subsampling/oversampling de las clases sobre el conjunto de entrenamiento en lugar de aplicarlo sobre el dataset completo? Argumente su respuesta.\n",
    "\n",
    "**Respuesta:** La razón por la cual se aplica subsampling/oversampling porque de esta forma se tiene un conjunto de entrenamiento más balacneado, y por ende el modelo sea más representativo una vez aplicado. De esta forma se evita errores de underfitting/overfitting, y además permite evaluar el rendimiento del modelo directamente con la distribución real de datos."
   ]
  },
  {
   "cell_type": "markdown",
   "metadata": {
    "id": "Vg8oRomlXAD6"
   },
   "source": [
    "\n"
   ]
  },
  {
   "cell_type": "code",
   "execution_count": 24,
   "metadata": {
    "id": "Mich8PsMQ3uw"
   },
   "outputs": [],
   "source": [
    "## ejecutar este código para preparar los datos\n",
    "from sklearn.metrics import classification_report\n",
    "\n",
    "# Preparando los data frames para ser compatibles con sklearn\n",
    "\n",
    "# datos test (mismo para todos los conjuntos de entrenamiento)\n",
    "X_test = data_test[data_train.columns[:-1]] # todo hasta la penultima columna\n",
    "y_test = data_test[data_train.columns[-1]]  # la última columna\n",
    "\n",
    "# datos entrenamiento \"originales\"\n",
    "X_orig = data_train[data_train.columns[:-1]] \n",
    "y_orig = data_train[data_train.columns[-1]] \n",
    "\n",
    "# datos entrenamiento \"oversampleados\" \n",
    "X_over = data_oversampled[data_train.columns[:-1]]\n",
    "y_over = data_oversampled[data_train.columns[-1]]\n",
    "\n",
    "# datos entrenamiento \"subsampleados\"\n",
    "X_subs = data_subsampled[data_train.columns[:-1]]\n",
    "y_subs = data_subsampled[data_train.columns[-1]]\n"
   ]
  },
  {
   "cell_type": "markdown",
   "metadata": {
    "id": "AWA7_lHxXAD7"
   },
   "source": [
    "## Pregunta 3.2\n",
    "\n",
    "Complete el código necesario para entrenar un clasificador DecisionTree en cada uno de los tres casos (**original**, con **oversampling** y con **subsampling**) y luego compare los resultados sobre el conjunto de test (este es el mismo para los tres casos) obtenido con train_test_split sobre los datos originales. Muestre Precision, Recall y F1-score.\n",
    "\n",
    "Emplee como datos de entrada lo del bloque anterior. "
   ]
  },
  {
   "cell_type": "code",
   "execution_count": 36,
   "metadata": {
    "ExecuteTime": {
     "end_time": "2020-09-28T01:11:38.601396Z",
     "start_time": "2020-09-28T01:11:38.553269Z"
    },
    "colab": {
     "base_uri": "https://localhost:8080/"
    },
    "id": "AXu3Hx77XAD9",
    "outputId": "d750d743-0a42-426c-b3f2-73ade251bdae"
   },
   "outputs": [
    {
     "name": "stdout",
     "output_type": "stream",
     "text": [
      "ORIGINAL::::::::::\n",
      "              precision    recall  f1-score   support\n",
      "\n",
      "           0       0.53      0.49      0.51       145\n",
      "           1       0.71      0.74      0.72       241\n",
      "\n",
      "    accuracy                           0.65       386\n",
      "   macro avg       0.62      0.62      0.62       386\n",
      "weighted avg       0.64      0.65      0.64       386\n",
      "\n",
      "Oversampling::::::\n",
      "              precision    recall  f1-score   support\n",
      "\n",
      "           0       0.53      0.52      0.52       145\n",
      "           1       0.71      0.73      0.72       241\n",
      "\n",
      "    accuracy                           0.65       386\n",
      "   macro avg       0.62      0.62      0.62       386\n",
      "weighted avg       0.65      0.65      0.65       386\n",
      "\n",
      "Subsampling:::::::\n",
      "              precision    recall  f1-score   support\n",
      "\n",
      "           0       0.50      0.57      0.53       145\n",
      "           1       0.72      0.66      0.69       241\n",
      "\n",
      "    accuracy                           0.63       386\n",
      "   macro avg       0.61      0.61      0.61       386\n",
      "weighted avg       0.64      0.63      0.63       386\n",
      "\n"
     ]
    }
   ],
   "source": [
    "from sklearn.tree import DecisionTreeClassifier\n",
    "from sklearn.model_selection import train_test_split\n",
    "\n",
    "## Pasos:\n",
    "##  - instanciar el clasificador con DecisionTreeClassifier()\n",
    "##  - entrenar con fit()\n",
    "##  - hacer las predicciones\n",
    "##  - mostrar precision, recall y f1-score con classification report.\n",
    "\n",
    "print(\"ORIGINAL::::::::::\")\n",
    "clf_orig = DecisionTreeClassifier()\n",
    "clf_orig.fit(X_orig, y_orig)\n",
    "pred_orig = clf_orig.predict(X_test)\n",
    "print(classification_report(y_test, pred_orig))\n",
    "\n",
    "print(\"Oversampling::::::\")\n",
    "clf_over=DecisionTreeClassifier()\n",
    "clf_over.fit(X_over, y_over)\n",
    "pred_over = clf_over.predict(X_test)\n",
    "print(classification_report(y_test, pred_over))\n",
    "\n",
    "print(\"Subsampling:::::::\")\n",
    "clf_subs=DecisionTreeClassifier()\n",
    "clf_subs.fit(X_subs, y_subs)\n",
    "pred_subs = clf_subs.predict(X_test)\n",
    "print(classification_report(y_test, pred_subs))\n"
   ]
  },
  {
   "cell_type": "markdown",
   "metadata": {
    "id": "5XkE5zruXAD-"
   },
   "source": [
    "## Pregunta 3.3\n",
    "\n",
    "- Observe los resultados obtenidos por clase con cada conjunto de entrenamiento, ¿se puede observar alguna diferencia importante? \n",
    "- Indique una desventaja de usar oversampling y una desventaja de usar subsampling en clasificación."
   ]
  },
  {
   "cell_type": "markdown",
   "metadata": {
    "id": "CT_8XDc6XAD-"
   },
   "source": [
    "Respuesta: Si se puede observar una diferencia importante entre los resultados obtenidos. Por ejemplo, existe una variación considerable del recall entre los 3 modelos, y una diferencia menor en las otras métricas. Con respecto a las desventajas, en subsampling corresponde a que puede haber perdida de información que afecte el modelo, y con respecto a oversampling ocurre que se genera un sesgo hacia la clase con menor cantidad de datos (aunque esto igual puede ocurrir al usar subsampling)."
   ]
  },
  {
   "cell_type": "markdown",
   "metadata": {
    "id": "8glVj8bwFE6e"
   },
   "source": [
    "## Pregunta 3.4\n",
    "\n",
    "Compare los resultados del caso **ORIGINAL** (donde el clasificador usa los parámetros por defecto DecisionTreeClassifier()) versus el resultado de la pregunta 2.1 donde usa los mejores parámetros con GridSearchCV. ¿Qué opina de los resultados?"
   ]
  },
  {
   "cell_type": "markdown",
   "metadata": {
    "id": "wh-HoWy0FE6e"
   },
   "source": [
    "Respuesta: Se puede ver que las métricas para la clase 0 aumentan de manera significativa (unas varias centésimas) del caso ORIGINAL al caso de la preguntas 2.1, mientras que en la clase 1 aumenta no tan drásticamente (unas cuantas centésimas). Por lo que en general se puede apreciar que aplicar estas técnicas de hiperparámetros contribuyen a un mejor modelo."
   ]
  }
 ],
 "metadata": {
  "anaconda-cloud": {},
  "colab": {
   "provenance": [],
   "toc_visible": true
  },
  "hide_input": false,
  "kernelspec": {
   "display_name": "Python 3 (ipykernel)",
   "language": "python",
   "name": "python3"
  },
  "language_info": {
   "codemirror_mode": {
    "name": "ipython",
    "version": 3
   },
   "file_extension": ".py",
   "mimetype": "text/x-python",
   "name": "python",
   "nbconvert_exporter": "python",
   "pygments_lexer": "ipython3",
   "version": "3.10.9"
  },
  "toc": {
   "base_numbering": 1,
   "nav_menu": {},
   "number_sections": true,
   "sideBar": true,
   "skip_h1_title": false,
   "title_cell": "Table of Contents",
   "title_sidebar": "Contents",
   "toc_cell": false,
   "toc_position": {},
   "toc_section_display": true,
   "toc_window_display": false
  },
  "varInspector": {
   "cols": {
    "lenName": 16,
    "lenType": 16,
    "lenVar": 40
   },
   "kernels_config": {
    "python": {
     "delete_cmd_postfix": "",
     "delete_cmd_prefix": "del ",
     "library": "var_list.py",
     "varRefreshCmd": "print(var_dic_list())"
    },
    "r": {
     "delete_cmd_postfix": ") ",
     "delete_cmd_prefix": "rm(",
     "library": "var_list.r",
     "varRefreshCmd": "cat(var_dic_list()) "
    }
   },
   "types_to_exclude": [
    "module",
    "function",
    "builtin_function_or_method",
    "instance",
    "_Feature"
   ],
   "window_display": false
  }
 },
 "nbformat": 4,
 "nbformat_minor": 1
}
